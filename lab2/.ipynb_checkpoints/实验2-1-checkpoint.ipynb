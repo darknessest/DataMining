{
 "cells": [
  {
   "cell_type": "markdown",
   "metadata": {},
   "source": [
    "# Lab 2-1\n",
    "#### 学生信息\n",
    "学号：24320172205050\n",
    "\n",
    "姓名：博雅力"
   ]
  },
  {
   "cell_type": "markdown",
   "metadata": {},
   "source": [
    "#### Code\n",
    "importing libraries:"
   ]
  },
  {
   "cell_type": "code",
   "execution_count": 1,
   "metadata": {
    "pycharm": {
     "is_executing": false,
     "name": "#%%\n"
    }
   },
   "outputs": [],
   "source": [
    "import numpy as np\n",
    "import matplotlib\n",
    "import pandas as pd\n",
    "import os"
   ]
  },
  {
   "cell_type": "markdown",
   "metadata": {
    "pycharm": {
     "name": "#%% md\n"
    }
   },
   "source": [
    "reading from file:"
   ]
  },
  {
   "cell_type": "code",
   "execution_count": 2,
   "metadata": {
    "collapsed": false,
    "jupyter": {
     "outputs_hidden": false
    },
    "pycharm": {
     "is_executing": false,
     "name": "#%%\n"
    }
   },
   "outputs": [],
   "source": [
    "horse_data_file = os.path.join('horse-colic.data')"
   ]
  },
  {
   "cell_type": "code",
   "execution_count": 3,
   "metadata": {
    "collapsed": false,
    "jupyter": {
     "outputs_hidden": false
    },
    "pycharm": {
     "is_executing": false,
     "name": "#%%\n"
    }
   },
   "outputs": [],
   "source": [
    "horse_columns = {\n",
    "                 'surgery'                              :'bool',         #1\n",
    "                 'Age'                                  :'category',     #2\n",
    "                 'Hospital Number'                      :'str',          #3  \n",
    "                                                                         # id number, so it can be considered as string\n",
    "                 'rectal temperature'                   :'float32',      #4\n",
    "                 'pulse'                                :'int8',         #5\n",
    "                 'respiratory rate'                     :'int8',         #6\n",
    "                 'temperature of extremities'           :'category',     #7\n",
    "                 'peripheral pulse'                     :'category',     #8\n",
    "                 'mucous membranes'                     :'category',     #9\n",
    "                 'capillary refill time'                :'category',     #10\n",
    "                 'pain'                                 :'category',     #11\n",
    "                 'peristalsis'                          :'category',     #12\n",
    "                 'abdominal distension'                 :'category',     #13\n",
    "                 'nasogastric tube'                     :'category',     #14\n",
    "                 'nasogastric reflux'                   :'category',     #15\n",
    "                 'nasogastric reflux PH'                :'float32',      #16\n",
    "                 'feces'                                :'category',     #17\n",
    "                 'abdomen'                              :'category',     #18\n",
    "                 'packed cell volume'                   :'float32',      #19\n",
    "                 'total protein'                        :'float32',      #20\n",
    "                 'abdominocentesis appearance'          :'category',     #21\n",
    "                 'abdomcentesis total protein'          :'float32',      #22\n",
    "                 'outcome'                              :'category',     #23\n",
    "                 'surgical lesion ?'                    :'bool',         #24\n",
    "                 'lesion_1'                             :'str',          #25\n",
    "                 'lesion_2'                             :'str',          #26\n",
    "                 'lesion_3'                             :'str',          #27\n",
    "                 'cp_data'                              :'bool'          #28\n",
    "}\n"
   ]
  },
  {
   "cell_type": "code",
   "execution_count": 4,
   "metadata": {
    "collapsed": false,
    "jupyter": {
     "outputs_hidden": false
    },
    "pycharm": {
     "is_executing": false,
     "name": "#%%\n"
    }
   },
   "outputs": [],
   "source": [
    "loaded_table = pd.read_table(horse_data_file, delimiter=\" \",  \n",
    "                             header=None, index_col=False, \n",
    "                             names=horse_columns.keys(),\n",
    "                             # dtype=horse_columns, \n",
    "                             na_values='?',\n",
    "                             keep_default_na=False, # improves speed\n",
    "                             engine='python')\n",
    "\n",
    "# loaded_table = np.fromfile(horse_data_file, sep=\" \", dtype=str)"
   ]
  },
  {
   "cell_type": "code",
   "execution_count": 5,
   "metadata": {
    "collapsed": false,
    "jupyter": {
     "outputs_hidden": false
    },
    "pycharm": {
     "is_executing": false,
     "name": "#%%\n"
    }
   },
   "outputs": [
    {
     "name": "stdout",
     "output_type": "stream",
     "text": [
      "<class 'pandas.core.frame.DataFrame'>\n",
      "RangeIndex: 300 entries, 0 to 299\n",
      "Data columns (total 28 columns):\n",
      " #   Column                       Non-Null Count  Dtype  \n",
      "---  ------                       --------------  -----  \n",
      " 0   surgery                      299 non-null    float64\n",
      " 1   Age                          300 non-null    int64  \n",
      " 2   Hospital Number              300 non-null    int64  \n",
      " 3   rectal temperature           240 non-null    float64\n",
      " 4   pulse                        276 non-null    float64\n",
      " 5   respiratory rate             242 non-null    float64\n",
      " 6   temperature of extremities   244 non-null    float64\n",
      " 7   peripheral pulse             231 non-null    float64\n",
      " 8   mucous membranes             253 non-null    float64\n",
      " 9   capillary refill time        268 non-null    float64\n",
      " 10  pain                         245 non-null    float64\n",
      " 11  peristalsis                  256 non-null    float64\n",
      " 12  abdominal distension         244 non-null    float64\n",
      " 13  nasogastric tube             196 non-null    float64\n",
      " 14  nasogastric reflux           194 non-null    float64\n",
      " 15  nasogastric reflux PH        53 non-null     float64\n",
      " 16  feces                        198 non-null    float64\n",
      " 17  abdomen                      182 non-null    float64\n",
      " 18  packed cell volume           271 non-null    float64\n",
      " 19  total protein                267 non-null    float64\n",
      " 20  abdominocentesis appearance  135 non-null    float64\n",
      " 21  abdomcentesis total protein  102 non-null    float64\n",
      " 22  outcome                      299 non-null    float64\n",
      " 23  surgical lesion ?            300 non-null    int64  \n",
      " 24  lesion_1                     300 non-null    int64  \n",
      " 25  lesion_2                     300 non-null    int64  \n",
      " 26  lesion_3                     300 non-null    int64  \n",
      " 27  cp_data                      300 non-null    int64  \n",
      "dtypes: float64(21), int64(7)\n",
      "memory usage: 65.8 KB\n"
     ]
    },
    {
     "data": {
      "text/html": [
       "<div>\n",
       "<style scoped>\n",
       "    .dataframe tbody tr th:only-of-type {\n",
       "        vertical-align: middle;\n",
       "    }\n",
       "\n",
       "    .dataframe tbody tr th {\n",
       "        vertical-align: top;\n",
       "    }\n",
       "\n",
       "    .dataframe thead th {\n",
       "        text-align: right;\n",
       "    }\n",
       "</style>\n",
       "<table border=\"1\" class=\"dataframe\">\n",
       "  <thead>\n",
       "    <tr style=\"text-align: right;\">\n",
       "      <th></th>\n",
       "      <th>surgery</th>\n",
       "      <th>Age</th>\n",
       "      <th>Hospital Number</th>\n",
       "      <th>rectal temperature</th>\n",
       "      <th>pulse</th>\n",
       "      <th>respiratory rate</th>\n",
       "      <th>temperature of extremities</th>\n",
       "      <th>peripheral pulse</th>\n",
       "      <th>mucous membranes</th>\n",
       "      <th>capillary refill time</th>\n",
       "      <th>...</th>\n",
       "      <th>packed cell volume</th>\n",
       "      <th>total protein</th>\n",
       "      <th>abdominocentesis appearance</th>\n",
       "      <th>abdomcentesis total protein</th>\n",
       "      <th>outcome</th>\n",
       "      <th>surgical lesion ?</th>\n",
       "      <th>lesion_1</th>\n",
       "      <th>lesion_2</th>\n",
       "      <th>lesion_3</th>\n",
       "      <th>cp_data</th>\n",
       "    </tr>\n",
       "  </thead>\n",
       "  <tbody>\n",
       "    <tr>\n",
       "      <th>count</th>\n",
       "      <td>299.000000</td>\n",
       "      <td>300.000000</td>\n",
       "      <td>3.000000e+02</td>\n",
       "      <td>240.000000</td>\n",
       "      <td>276.000000</td>\n",
       "      <td>242.000000</td>\n",
       "      <td>244.000000</td>\n",
       "      <td>231.000000</td>\n",
       "      <td>253.000000</td>\n",
       "      <td>268.000000</td>\n",
       "      <td>...</td>\n",
       "      <td>271.000000</td>\n",
       "      <td>267.000000</td>\n",
       "      <td>135.000000</td>\n",
       "      <td>102.000000</td>\n",
       "      <td>299.000000</td>\n",
       "      <td>300.000000</td>\n",
       "      <td>300.000000</td>\n",
       "      <td>300.000000</td>\n",
       "      <td>300.000000</td>\n",
       "      <td>300.000000</td>\n",
       "    </tr>\n",
       "    <tr>\n",
       "      <th>mean</th>\n",
       "      <td>1.397993</td>\n",
       "      <td>1.640000</td>\n",
       "      <td>1.085889e+06</td>\n",
       "      <td>38.167917</td>\n",
       "      <td>71.913043</td>\n",
       "      <td>30.417355</td>\n",
       "      <td>2.348361</td>\n",
       "      <td>2.017316</td>\n",
       "      <td>2.853755</td>\n",
       "      <td>1.305970</td>\n",
       "      <td>...</td>\n",
       "      <td>46.295203</td>\n",
       "      <td>24.456929</td>\n",
       "      <td>2.037037</td>\n",
       "      <td>3.019608</td>\n",
       "      <td>1.551839</td>\n",
       "      <td>1.363333</td>\n",
       "      <td>3657.880000</td>\n",
       "      <td>90.226667</td>\n",
       "      <td>7.363333</td>\n",
       "      <td>1.670000</td>\n",
       "    </tr>\n",
       "    <tr>\n",
       "      <th>std</th>\n",
       "      <td>0.490305</td>\n",
       "      <td>2.173972</td>\n",
       "      <td>1.529801e+06</td>\n",
       "      <td>0.732289</td>\n",
       "      <td>28.630557</td>\n",
       "      <td>17.642231</td>\n",
       "      <td>1.045054</td>\n",
       "      <td>1.042428</td>\n",
       "      <td>1.620294</td>\n",
       "      <td>0.477629</td>\n",
       "      <td>...</td>\n",
       "      <td>10.419335</td>\n",
       "      <td>27.475009</td>\n",
       "      <td>0.804905</td>\n",
       "      <td>1.968567</td>\n",
       "      <td>0.737187</td>\n",
       "      <td>0.481763</td>\n",
       "      <td>5399.513513</td>\n",
       "      <td>649.569234</td>\n",
       "      <td>127.536674</td>\n",
       "      <td>0.470998</td>\n",
       "    </tr>\n",
       "    <tr>\n",
       "      <th>min</th>\n",
       "      <td>1.000000</td>\n",
       "      <td>1.000000</td>\n",
       "      <td>5.184760e+05</td>\n",
       "      <td>35.400000</td>\n",
       "      <td>30.000000</td>\n",
       "      <td>8.000000</td>\n",
       "      <td>1.000000</td>\n",
       "      <td>1.000000</td>\n",
       "      <td>1.000000</td>\n",
       "      <td>1.000000</td>\n",
       "      <td>...</td>\n",
       "      <td>23.000000</td>\n",
       "      <td>3.300000</td>\n",
       "      <td>1.000000</td>\n",
       "      <td>0.100000</td>\n",
       "      <td>1.000000</td>\n",
       "      <td>1.000000</td>\n",
       "      <td>0.000000</td>\n",
       "      <td>0.000000</td>\n",
       "      <td>0.000000</td>\n",
       "      <td>1.000000</td>\n",
       "    </tr>\n",
       "    <tr>\n",
       "      <th>25%</th>\n",
       "      <td>1.000000</td>\n",
       "      <td>1.000000</td>\n",
       "      <td>5.289040e+05</td>\n",
       "      <td>37.800000</td>\n",
       "      <td>48.000000</td>\n",
       "      <td>18.500000</td>\n",
       "      <td>1.000000</td>\n",
       "      <td>1.000000</td>\n",
       "      <td>1.000000</td>\n",
       "      <td>1.000000</td>\n",
       "      <td>...</td>\n",
       "      <td>38.000000</td>\n",
       "      <td>6.500000</td>\n",
       "      <td>1.000000</td>\n",
       "      <td>2.000000</td>\n",
       "      <td>1.000000</td>\n",
       "      <td>1.000000</td>\n",
       "      <td>2111.750000</td>\n",
       "      <td>0.000000</td>\n",
       "      <td>0.000000</td>\n",
       "      <td>1.000000</td>\n",
       "    </tr>\n",
       "    <tr>\n",
       "      <th>50%</th>\n",
       "      <td>1.000000</td>\n",
       "      <td>1.000000</td>\n",
       "      <td>5.303055e+05</td>\n",
       "      <td>38.200000</td>\n",
       "      <td>64.000000</td>\n",
       "      <td>24.500000</td>\n",
       "      <td>3.000000</td>\n",
       "      <td>2.000000</td>\n",
       "      <td>3.000000</td>\n",
       "      <td>1.000000</td>\n",
       "      <td>...</td>\n",
       "      <td>45.000000</td>\n",
       "      <td>7.500000</td>\n",
       "      <td>2.000000</td>\n",
       "      <td>2.250000</td>\n",
       "      <td>1.000000</td>\n",
       "      <td>1.000000</td>\n",
       "      <td>2673.500000</td>\n",
       "      <td>0.000000</td>\n",
       "      <td>0.000000</td>\n",
       "      <td>2.000000</td>\n",
       "    </tr>\n",
       "    <tr>\n",
       "      <th>75%</th>\n",
       "      <td>2.000000</td>\n",
       "      <td>1.000000</td>\n",
       "      <td>5.347275e+05</td>\n",
       "      <td>38.500000</td>\n",
       "      <td>88.000000</td>\n",
       "      <td>36.000000</td>\n",
       "      <td>3.000000</td>\n",
       "      <td>3.000000</td>\n",
       "      <td>4.000000</td>\n",
       "      <td>2.000000</td>\n",
       "      <td>...</td>\n",
       "      <td>52.000000</td>\n",
       "      <td>57.000000</td>\n",
       "      <td>3.000000</td>\n",
       "      <td>3.900000</td>\n",
       "      <td>2.000000</td>\n",
       "      <td>2.000000</td>\n",
       "      <td>3209.000000</td>\n",
       "      <td>0.000000</td>\n",
       "      <td>0.000000</td>\n",
       "      <td>2.000000</td>\n",
       "    </tr>\n",
       "    <tr>\n",
       "      <th>max</th>\n",
       "      <td>2.000000</td>\n",
       "      <td>9.000000</td>\n",
       "      <td>5.305629e+06</td>\n",
       "      <td>40.800000</td>\n",
       "      <td>184.000000</td>\n",
       "      <td>96.000000</td>\n",
       "      <td>4.000000</td>\n",
       "      <td>4.000000</td>\n",
       "      <td>6.000000</td>\n",
       "      <td>3.000000</td>\n",
       "      <td>...</td>\n",
       "      <td>75.000000</td>\n",
       "      <td>89.000000</td>\n",
       "      <td>3.000000</td>\n",
       "      <td>10.100000</td>\n",
       "      <td>3.000000</td>\n",
       "      <td>2.000000</td>\n",
       "      <td>41110.000000</td>\n",
       "      <td>7111.000000</td>\n",
       "      <td>2209.000000</td>\n",
       "      <td>2.000000</td>\n",
       "    </tr>\n",
       "  </tbody>\n",
       "</table>\n",
       "<p>8 rows × 28 columns</p>\n",
       "</div>"
      ],
      "text/plain": [
       "          surgery         Age  Hospital Number  rectal temperature  \\\n",
       "count  299.000000  300.000000     3.000000e+02          240.000000   \n",
       "mean     1.397993    1.640000     1.085889e+06           38.167917   \n",
       "std      0.490305    2.173972     1.529801e+06            0.732289   \n",
       "min      1.000000    1.000000     5.184760e+05           35.400000   \n",
       "25%      1.000000    1.000000     5.289040e+05           37.800000   \n",
       "50%      1.000000    1.000000     5.303055e+05           38.200000   \n",
       "75%      2.000000    1.000000     5.347275e+05           38.500000   \n",
       "max      2.000000    9.000000     5.305629e+06           40.800000   \n",
       "\n",
       "            pulse  respiratory rate  temperature of extremities  \\\n",
       "count  276.000000        242.000000                  244.000000   \n",
       "mean    71.913043         30.417355                    2.348361   \n",
       "std     28.630557         17.642231                    1.045054   \n",
       "min     30.000000          8.000000                    1.000000   \n",
       "25%     48.000000         18.500000                    1.000000   \n",
       "50%     64.000000         24.500000                    3.000000   \n",
       "75%     88.000000         36.000000                    3.000000   \n",
       "max    184.000000         96.000000                    4.000000   \n",
       "\n",
       "       peripheral pulse  mucous membranes  capillary refill time  ...  \\\n",
       "count        231.000000        253.000000             268.000000  ...   \n",
       "mean           2.017316          2.853755               1.305970  ...   \n",
       "std            1.042428          1.620294               0.477629  ...   \n",
       "min            1.000000          1.000000               1.000000  ...   \n",
       "25%            1.000000          1.000000               1.000000  ...   \n",
       "50%            2.000000          3.000000               1.000000  ...   \n",
       "75%            3.000000          4.000000               2.000000  ...   \n",
       "max            4.000000          6.000000               3.000000  ...   \n",
       "\n",
       "       packed cell volume  total protein  abdominocentesis appearance  \\\n",
       "count          271.000000     267.000000                   135.000000   \n",
       "mean            46.295203      24.456929                     2.037037   \n",
       "std             10.419335      27.475009                     0.804905   \n",
       "min             23.000000       3.300000                     1.000000   \n",
       "25%             38.000000       6.500000                     1.000000   \n",
       "50%             45.000000       7.500000                     2.000000   \n",
       "75%             52.000000      57.000000                     3.000000   \n",
       "max             75.000000      89.000000                     3.000000   \n",
       "\n",
       "       abdomcentesis total protein     outcome  surgical lesion ?  \\\n",
       "count                   102.000000  299.000000         300.000000   \n",
       "mean                      3.019608    1.551839           1.363333   \n",
       "std                       1.968567    0.737187           0.481763   \n",
       "min                       0.100000    1.000000           1.000000   \n",
       "25%                       2.000000    1.000000           1.000000   \n",
       "50%                       2.250000    1.000000           1.000000   \n",
       "75%                       3.900000    2.000000           2.000000   \n",
       "max                      10.100000    3.000000           2.000000   \n",
       "\n",
       "           lesion_1     lesion_2     lesion_3     cp_data  \n",
       "count    300.000000   300.000000   300.000000  300.000000  \n",
       "mean    3657.880000    90.226667     7.363333    1.670000  \n",
       "std     5399.513513   649.569234   127.536674    0.470998  \n",
       "min        0.000000     0.000000     0.000000    1.000000  \n",
       "25%     2111.750000     0.000000     0.000000    1.000000  \n",
       "50%     2673.500000     0.000000     0.000000    2.000000  \n",
       "75%     3209.000000     0.000000     0.000000    2.000000  \n",
       "max    41110.000000  7111.000000  2209.000000    2.000000  \n",
       "\n",
       "[8 rows x 28 columns]"
      ]
     },
     "execution_count": 5,
     "metadata": {},
     "output_type": "execute_result"
    }
   ],
   "source": [
    "loaded_table.info()\n",
    "loaded_table.describe()"
   ]
  },
  {
   "cell_type": "markdown",
   "metadata": {},
   "source": [
    "Fixing data according to the documentation"
   ]
  },
  {
   "cell_type": "code",
   "execution_count": 6,
   "metadata": {},
   "outputs": [],
   "source": [
    "loaded_table['Age'] = loaded_table['Age'].replace(to_replace=9, value=2)\n",
    "loaded_table = loaded_table.astype({'Age':'category'})\n"
   ]
  },
  {
   "cell_type": "code",
   "execution_count": 7,
   "metadata": {
    "collapsed": false,
    "jupyter": {
     "outputs_hidden": false
    },
    "pycharm": {
     "is_executing": false,
     "name": "#%%\n"
    }
   },
   "outputs": [],
   "source": [
    "no_nan_table = loaded_table.dropna()\n",
    "no_nan_table = no_nan_table.astype(horse_columns)"
   ]
  },
  {
   "cell_type": "markdown",
   "metadata": {
    "pycharm": {
     "is_executing": false,
     "name": "#%% md\n"
    }
   },
   "source": [
    "Only 6 entries have all Non-Null columns, so we should do the cleaning.\n",
    "\n",
    "Let's check the surgery column:"
   ]
  },
  {
   "cell_type": "code",
   "execution_count": 8,
   "metadata": {
    "collapsed": false,
    "jupyter": {
     "outputs_hidden": false
    },
    "pycharm": {
     "is_executing": false,
     "name": "#%%\n"
    }
   },
   "outputs": [
    {
     "name": "stdout",
     "output_type": "stream",
     "text": [
      "     surgery Age  Hospital Number  rectal temperature  pulse  \\\n",
      "132      NaN   1           534572                38.0   48.0   \n",
      "\n",
      "     respiratory rate  temperature of extremities  peripheral pulse  \\\n",
      "132              20.0                         3.0               1.0   \n",
      "\n",
      "     mucous membranes  capillary refill time  ...  packed cell volume  \\\n",
      "132               3.0                    1.0  ...                43.0   \n",
      "\n",
      "     total protein  abdominocentesis appearance  abdomcentesis total protein  \\\n",
      "132           73.0                          2.0                          1.0   \n",
      "\n",
      "     outcome  surgical lesion ?  lesion_1  lesion_2  lesion_3  cp_data  \n",
      "132      NaN                  1      3111         0         0        2  \n",
      "\n",
      "[1 rows x 28 columns]\n"
     ]
    }
   ],
   "source": [
    "print(loaded_table[loaded_table['surgery'].isnull()])"
   ]
  },
  {
   "cell_type": "markdown",
   "metadata": {
    "pycharm": {
     "name": "#%% md\n"
    }
   },
   "source": [
    "Line 132 doesn't have information about surgery, but from the column 24 'surgical lesion ?'\n",
    "we can guess that there was a surgery done. \n",
    "\n",
    "Not just guess, but also check out the correlation:"
   ]
  },
  {
   "cell_type": "code",
   "execution_count": 9,
   "metadata": {
    "collapsed": false,
    "jupyter": {
     "outputs_hidden": false
    },
    "pycharm": {
     "is_executing": false,
     "name": "#%%\n"
    }
   },
   "outputs": [
    {
     "data": {
      "text/plain": [
       "0.6050230218785848"
      ]
     },
     "execution_count": 9,
     "metadata": {},
     "output_type": "execute_result"
    }
   ],
   "source": [
    "loaded_table['surgery'].corr(loaded_table['surgical lesion ?'])"
   ]
  },
  {
   "cell_type": "markdown",
   "metadata": {
    "pycharm": {
     "name": "#%% md\n"
    }
   },
   "source": [
    "That's a pretty strong correlation, so we can fill in this cell."
   ]
  },
  {
   "cell_type": "code",
   "execution_count": 10,
   "metadata": {
    "collapsed": false,
    "jupyter": {
     "outputs_hidden": false
    },
    "pycharm": {
     "is_executing": false,
     "name": "#%% \n"
    }
   },
   "outputs": [],
   "source": [
    "loaded_table['surgery'].fillna(value=1, inplace=True)\n",
    "# print(loaded_table[loaded_table['surgery'].isnull()])"
   ]
  },
  {
   "cell_type": "code",
   "execution_count": 11,
   "metadata": {},
   "outputs": [],
   "source": [
    "loaded_table['surgical lesion ?'] = loaded_table['surgical lesion ?'].replace(to_replace=2, value=False)\n",
    "loaded_table = loaded_table.astype({'surgical lesion ?':'bool'})\n",
    "# print(loaded_table.head())"
   ]
  },
  {
   "cell_type": "code",
   "execution_count": 12,
   "metadata": {},
   "outputs": [],
   "source": [
    "loaded_table['surgery'] = loaded_table['surgery'].replace(to_replace=2.0, value=False)\n",
    "loaded_table = loaded_table.astype({'surgery':'bool'})\n",
    "# print(loaded_table.head())"
   ]
  },
  {
   "cell_type": "markdown",
   "metadata": {
    "pycharm": {
     "name": "#%% md\n"
    }
   },
   "source": [
    "Columns 3 - 12, 18, 19, 22 to check"
   ]
  },
  {
   "cell_type": "code",
   "execution_count": 13,
   "metadata": {
    "collapsed": false,
    "jupyter": {
     "outputs_hidden": false
    },
    "pycharm": {
     "is_executing": false,
     "name": "#%%\n"
    }
   },
   "outputs": [
    {
     "name": "stdout",
     "output_type": "stream",
     "text": [
      "    surgery Age  Hospital Number  rectal temperature  pulse  respiratory rate  \\\n",
      "132       1   1           534572                38.0   48.0              20.0   \n",
      "\n",
      "     temperature of extremities  peripheral pulse  mucous membranes  \\\n",
      "132                         3.0               1.0               3.0   \n",
      "\n",
      "     capillary refill time  ...  packed cell volume  total protein  \\\n",
      "132                    1.0  ...                43.0           73.0   \n",
      "\n",
      "     abdominocentesis appearance  abdomcentesis total protein  outcome  \\\n",
      "132                          2.0                          1.0      NaN   \n",
      "\n",
      "     surgical lesion ?  lesion_1  lesion_2  lesion_3  cp_data  \n",
      "132               True      3111         0         0        2  \n",
      "\n",
      "[1 rows x 28 columns]\n"
     ]
    },
    {
     "data": {
      "text/plain": [
       "outcome                        1.000000\n",
       "peripheral pulse               0.410632\n",
       "mucous membranes               0.399916\n",
       "packed cell volume             0.371962\n",
       "temperature of extremities     0.355442\n",
       "abdominal distension           0.348863\n",
       "capillary refill time          0.318901\n",
       "pulse                          0.313215\n",
       "abdominocentesis appearance    0.311656\n",
       "pain                           0.309957\n",
       "peristalsis                    0.290916\n",
       "abdomen                        0.288942\n",
       "nasogastric reflux             0.214858\n",
       "surgical lesion ?              0.209143\n",
       "feces                          0.202836\n",
       "respiratory rate               0.063039\n",
       "lesion_1                       0.041391\n",
       "cp_data                        0.035073\n",
       "total protein                  0.027875\n",
       "nasogastric tube               0.022810\n",
       "Hospital Number               -0.004377\n",
       "abdomcentesis total protein   -0.041551\n",
       "lesion_3                      -0.043436\n",
       "rectal temperature            -0.057082\n",
       "nasogastric reflux PH         -0.082016\n",
       "lesion_2                      -0.084915\n",
       "Name: outcome, dtype: float64"
      ]
     },
     "execution_count": 13,
     "metadata": {},
     "output_type": "execute_result"
    }
   ],
   "source": [
    "print(loaded_table[loaded_table['outcome'].isnull()])\n",
    "loaded_table.corr()['outcome'].sort_values(ascending=False)"
   ]
  },
  {
   "cell_type": "markdown",
   "metadata": {},
   "source": [
    "Filling in NAs with means and medians. \n",
    "And to decide which one is better we can look at all unique values in each column"
   ]
  },
  {
   "cell_type": "code",
   "execution_count": null,
   "metadata": {},
   "outputs": [],
   "source": [
    "# for x in horse_columns:\n",
    "#     print(x)\n",
    "#     print(loaded_table[x].unique())"
   ]
  },
  {
   "cell_type": "code",
   "execution_count": 15,
   "metadata": {
    "collapsed": false,
    "jupyter": {
     "outputs_hidden": false
    },
    "pycharm": {
     "is_executing": false,
     "name": "#%%\n"
    }
   },
   "outputs": [
    {
     "name": "stdout",
     "output_type": "stream",
     "text": [
      "<class 'pandas.core.frame.DataFrame'>\n",
      "RangeIndex: 300 entries, 0 to 299\n",
      "Data columns (total 28 columns):\n",
      " #   Column                       Non-Null Count  Dtype   \n",
      "---  ------                       --------------  -----   \n",
      " 0   surgery                      300 non-null    category\n",
      " 1   Age                          300 non-null    category\n",
      " 2   Hospital Number              300 non-null    int64   \n",
      " 3   rectal temperature           300 non-null    float64 \n",
      " 4   pulse                        300 non-null    float64 \n",
      " 5   respiratory rate             300 non-null    float64 \n",
      " 6   temperature of extremities   300 non-null    float64 \n",
      " 7   peripheral pulse             300 non-null    float64 \n",
      " 8   mucous membranes             300 non-null    float64 \n",
      " 9   capillary refill time        300 non-null    float64 \n",
      " 10  pain                         300 non-null    float64 \n",
      " 11  peristalsis                  300 non-null    float64 \n",
      " 12  abdominal distension         300 non-null    float64 \n",
      " 13  nasogastric tube             196 non-null    float64 \n",
      " 14  nasogastric reflux           194 non-null    float64 \n",
      " 15  nasogastric reflux PH        53 non-null     float64 \n",
      " 16  feces                        198 non-null    float64 \n",
      " 17  abdomen                      182 non-null    float64 \n",
      " 18  packed cell volume           300 non-null    float64 \n",
      " 19  total protein                300 non-null    float64 \n",
      " 20  abdominocentesis appearance  135 non-null    float64 \n",
      " 21  abdomcentesis total protein  102 non-null    float64 \n",
      " 22  outcome                      299 non-null    float64 \n",
      " 23  surgical lesion ?            300 non-null    bool    \n",
      " 24  lesion_1                     300 non-null    int64   \n",
      " 25  lesion_2                     300 non-null    int64   \n",
      " 26  lesion_3                     300 non-null    int64   \n",
      " 27  cp_data                      300 non-null    int64   \n",
      "dtypes: bool(1), category(2), float64(20), int64(5)\n",
      "memory usage: 59.8 KB\n",
      "None\n"
     ]
    }
   ],
   "source": [
    "fill_in_vals = {\n",
    "                 'rectal temperature'                   :loaded_table['rectal temperature'].median(),           #4\n",
    "                 'pulse'                                :loaded_table['pulse'].mean(),                          #5\n",
    "                 'respiratory rate'                     :loaded_table['respiratory rate'].mean(),               #6\n",
    "                 'temperature of extremities'           :loaded_table['temperature of extremities'].median(),   #7\n",
    "                 'peripheral pulse'                     :loaded_table['peripheral pulse'].median(),             #8\n",
    "                 'mucous membranes'                     :loaded_table['mucous membranes'].median(),             #9\n",
    "                 'capillary refill time'                :loaded_table['capillary refill time'].median(),        #10\n",
    "                 'pain'                                 :loaded_table['pain'].median(),                         #11\n",
    "                 'peristalsis'                          :loaded_table['peristalsis'].median(),                  #12\n",
    "                 'abdominal distension'                 :loaded_table['abdominal distension'].median(),         #13\n",
    "                 'packed cell volume'                   :loaded_table['packed cell volume'].mean(),                #19\n",
    "                 'total protein'                        :loaded_table['total protein'].mean(),                     #20\n",
    "}\n",
    "copy_table = loaded_table.fillna(value=fill_in_vals, inplace=False)\n",
    "# copy_table = loaded_table.fillna(loaded_table.median())\n",
    "# copy_table = copy_table.astype(horse_columns)\n",
    "print(copy_table.info())"
   ]
  },
  {
   "cell_type": "markdown",
   "metadata": {},
   "source": [
    "Casting to better types"
   ]
  },
  {
   "cell_type": "code",
   "execution_count": 16,
   "metadata": {},
   "outputs": [
    {
     "name": "stdout",
     "output_type": "stream",
     "text": [
      "<class 'pandas.core.frame.DataFrame'>\n",
      "RangeIndex: 300 entries, 0 to 299\n",
      "Data columns (total 28 columns):\n",
      " #   Column                       Non-Null Count  Dtype   \n",
      "---  ------                       --------------  -----   \n",
      " 0   surgery                      300 non-null    bool    \n",
      " 1   Age                          300 non-null    category\n",
      " 2   Hospital Number              300 non-null    object  \n",
      " 3   rectal temperature           300 non-null    float32 \n",
      " 4   pulse                        300 non-null    int8    \n",
      " 5   respiratory rate             300 non-null    int8    \n",
      " 6   temperature of extremities   300 non-null    category\n",
      " 7   peripheral pulse             300 non-null    category\n",
      " 8   mucous membranes             300 non-null    category\n",
      " 9   capillary refill time        300 non-null    category\n",
      " 10  pain                         300 non-null    category\n",
      " 11  peristalsis                  300 non-null    category\n",
      " 12  abdominal distension         300 non-null    category\n",
      " 13  nasogastric tube             196 non-null    float64 \n",
      " 14  nasogastric reflux           194 non-null    float64 \n",
      " 15  nasogastric reflux PH        53 non-null     float64 \n",
      " 16  feces                        198 non-null    float64 \n",
      " 17  abdomen                      182 non-null    float64 \n",
      " 18  packed cell volume           300 non-null    float32 \n",
      " 19  total protein                300 non-null    float32 \n",
      " 20  abdominocentesis appearance  135 non-null    float64 \n",
      " 21  abdomcentesis total protein  102 non-null    float64 \n",
      " 22  outcome                      299 non-null    float64 \n",
      " 23  surgical lesion ?            300 non-null    bool    \n",
      " 24  lesion_1                     300 non-null    object  \n",
      " 25  lesion_2                     300 non-null    object  \n",
      " 26  lesion_3                     300 non-null    object  \n",
      " 27  cp_data                      300 non-null    bool    \n",
      "dtypes: bool(3), category(8), float32(3), float64(8), int8(2), object(4)\n",
      "memory usage: 36.9+ KB\n",
      "None\n"
     ]
    }
   ],
   "source": [
    "for col in horse_columns:\n",
    "    if col in copy_table.columns:\n",
    "        if copy_table[col].count() == 300:\n",
    "#         print(col, horse_columns[col])\n",
    "            copy_table = copy_table.astype({col:horse_columns[col]})\n",
    "print(copy_table.info())"
   ]
  },
  {
   "cell_type": "markdown",
   "metadata": {
    "pycharm": {
     "name": "#%% md\n"
    }
   },
   "source": [
    "Filling in **outcome** column based on predicted data:"
   ]
  },
  {
   "cell_type": "code",
   "execution_count": 17,
   "metadata": {
    "collapsed": false,
    "jupyter": {
     "outputs_hidden": false
    },
    "pycharm": {
     "is_executing": false,
     "name": "#%%\n"
    }
   },
   "outputs": [],
   "source": [
    "from sklearn.model_selection import train_test_split"
   ]
  },
  {
   "cell_type": "code",
   "execution_count": 18,
   "metadata": {
    "collapsed": false,
    "jupyter": {
     "outputs_hidden": false
    },
    "pycharm": {
     "is_executing": false,
     "name": "#%%\n"
    }
   },
   "outputs": [],
   "source": [
    "for_prediction = copy_table.loc[:, 'surgery':'abdomcentesis total protein'].copy()\n",
    "for_prediction.drop(columns=['Hospital Number', 'nasogastric tube', 'nasogastric reflux', \n",
    "                             'nasogastric reflux PH', 'feces', 'abdomen',\n",
    "                             'abdominocentesis appearance', 'abdomcentesis total protein'], inplace=True)\n",
    "\n",
    "\n",
    "final_line = for_prediction.iloc[132]\n",
    "for_prediction.drop(index=132, inplace=True)\n",
    "clean_y = copy_table['outcome'].copy()\n",
    "clean_y.drop(index=132, inplace=True)\n",
    "clean_y = clean_y.astype({'outcome':'int8'})"
   ]
  },
  {
   "cell_type": "code",
   "execution_count": 19,
   "metadata": {
    "collapsed": false,
    "jupyter": {
     "outputs_hidden": false
    },
    "pycharm": {
     "is_executing": false,
     "name": "#%%\n"
    }
   },
   "outputs": [],
   "source": [
    "x_train, x_test, y_train, y_test = train_test_split(for_prediction, clean_y, test_size=0.15)\n"
   ]
  },
  {
   "cell_type": "code",
   "execution_count": 20,
   "metadata": {
    "collapsed": false,
    "jupyter": {
     "outputs_hidden": false
    },
    "pycharm": {
     "is_executing": false,
     "name": "#%%\n"
    }
   },
   "outputs": [],
   "source": [
    "from sklearn.metrics import accuracy_score\n",
    "from sklearn.ensemble import RandomForestClassifier\n",
    "# from sklearn.model_selection import GridSearchCV\n",
    "\n",
    "# GridSearchCV can be used to find the best parameters, but Radnom Forest with these arguments is optimal\n",
    "rnd_clf = RandomForestClassifier(n_estimators=90, random_state=42, min_samples_split=4)\n"
   ]
  },
  {
   "cell_type": "code",
   "execution_count": 21,
   "metadata": {
    "collapsed": false,
    "jupyter": {
     "outputs_hidden": false
    },
    "pycharm": {
     "is_executing": false,
     "name": "#%%\n"
    }
   },
   "outputs": [
    {
     "name": "stdout",
     "output_type": "stream",
     "text": [
      "RandomForestClassifier 0.7333333333333333\n"
     ]
    }
   ],
   "source": [
    "rnd_clf.fit(x_train, y_train)\n",
    "y_pred = rnd_clf.predict(x_test)\n",
    "print(rnd_clf.__class__.__name__, accuracy_score(y_test, y_pred))"
   ]
  },
  {
   "cell_type": "code",
   "execution_count": 22,
   "metadata": {
    "collapsed": false,
    "jupyter": {
     "outputs_hidden": false
    },
    "pycharm": {
     "is_executing": false,
     "name": "#%%\n"
    }
   },
   "outputs": [],
   "source": [
    "outcome_pred = rnd_clf.predict(np.array(final_line).reshape(1, 14))"
   ]
  },
  {
   "cell_type": "code",
   "execution_count": 23,
   "metadata": {},
   "outputs": [
    {
     "name": "stdout",
     "output_type": "stream",
     "text": [
      "1\n"
     ]
    }
   ],
   "source": [
    "print(outcome_pred[0])"
   ]
  },
  {
   "cell_type": "markdown",
   "metadata": {},
   "source": [
    "Finally filling predicted value in the table\n",
    "(No the most correct way to do it, but works in this case)"
   ]
  },
  {
   "cell_type": "code",
   "execution_count": 24,
   "metadata": {},
   "outputs": [],
   "source": [
    "copy_table.fillna(value={'outcome' : outcome_pred[0]}, inplace=True)\n"
   ]
  },
  {
   "cell_type": "code",
   "execution_count": 25,
   "metadata": {},
   "outputs": [],
   "source": [
    "copy_table = copy_table.astype({'outcome':'int8'})"
   ]
  },
  {
   "cell_type": "markdown",
   "metadata": {},
   "source": [
    "Dropping almost hard to recover columns:"
   ]
  },
  {
   "cell_type": "code",
   "execution_count": 26,
   "metadata": {},
   "outputs": [],
   "source": [
    "copy_table.drop(columns=['nasogastric tube', 'nasogastric reflux', \n",
    "                             'nasogastric reflux PH', 'feces', 'abdomen',\n",
    "                             'abdominocentesis appearance', 'abdomcentesis total protein'], inplace=True)"
   ]
  },
  {
   "cell_type": "markdown",
   "metadata": {},
   "source": [
    "Editing datatypes:"
   ]
  },
  {
   "cell_type": "markdown",
   "metadata": {},
   "source": [
    "Final table info:"
   ]
  },
  {
   "cell_type": "code",
   "execution_count": 27,
   "metadata": {},
   "outputs": [
    {
     "name": "stdout",
     "output_type": "stream",
     "text": [
      "<class 'pandas.core.frame.DataFrame'>\n",
      "RangeIndex: 300 entries, 0 to 299\n",
      "Data columns (total 21 columns):\n",
      " #   Column                      Non-Null Count  Dtype   \n",
      "---  ------                      --------------  -----   \n",
      " 0   surgery                     300 non-null    bool    \n",
      " 1   Age                         300 non-null    category\n",
      " 2   Hospital Number             300 non-null    object  \n",
      " 3   rectal temperature          300 non-null    float32 \n",
      " 4   pulse                       300 non-null    int8    \n",
      " 5   respiratory rate            300 non-null    int8    \n",
      " 6   temperature of extremities  300 non-null    category\n",
      " 7   peripheral pulse            300 non-null    category\n",
      " 8   mucous membranes            300 non-null    category\n",
      " 9   capillary refill time       300 non-null    category\n",
      " 10  pain                        300 non-null    category\n",
      " 11  peristalsis                 300 non-null    category\n",
      " 12  abdominal distension        300 non-null    category\n",
      " 13  packed cell volume          300 non-null    float32 \n",
      " 14  total protein               300 non-null    float32 \n",
      " 15  outcome                     300 non-null    int8    \n",
      " 16  surgical lesion ?           300 non-null    bool    \n",
      " 17  lesion_1                    300 non-null    object  \n",
      " 18  lesion_2                    300 non-null    object  \n",
      " 19  lesion_3                    300 non-null    object  \n",
      " 20  cp_data                     300 non-null    bool    \n",
      "dtypes: bool(3), category(8), float32(3), int8(3), object(4)\n",
      "memory usage: 18.5+ KB\n",
      "None\n"
     ]
    }
   ],
   "source": [
    "print(copy_table.info())"
   ]
  },
  {
   "cell_type": "markdown",
   "metadata": {},
   "source": []
  }
 ],
 "metadata": {
  "kernelspec": {
   "display_name": "py3-hwcg",
   "language": "python",
   "name": "py3-hwcg"
  },
  "language_info": {
   "codemirror_mode": {
    "name": "ipython",
    "version": 3
   },
   "file_extension": ".py",
   "mimetype": "text/x-python",
   "name": "python",
   "nbconvert_exporter": "python",
   "pygments_lexer": "ipython3",
   "version": "3.7.6"
  },
  "pycharm": {
   "stem_cell": {
    "cell_type": "raw",
    "metadata": {
     "collapsed": false
    },
    "source": []
   }
  }
 },
 "nbformat": 4,
 "nbformat_minor": 4
}
