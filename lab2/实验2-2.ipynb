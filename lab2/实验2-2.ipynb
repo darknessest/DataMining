{
 "cells": [
  {
   "cell_type": "markdown",
   "metadata": {},
   "source": [
    "# Lab 2-2\n",
    "#### 学生信息\n",
    "学号：24320172205050\n",
    "\n",
    "姓名：博雅力"
   ]
  },
  {
   "cell_type": "markdown",
   "metadata": {},
   "source": [
    "# Code\n",
    "\n",
    "#### Initial data exploring\n",
    "\n",
    "importing libraries:"
   ]
  },
  {
   "cell_type": "code",
   "execution_count": 1,
   "metadata": {
    "pycharm": {
     "is_executing": false,
     "name": "#%%\n"
    }
   },
   "outputs": [],
   "source": [
    "import numpy as np\n",
    "import matplotlib\n",
    "import pandas as pd\n",
    "import os"
   ]
  },
  {
   "cell_type": "markdown",
   "metadata": {
    "pycharm": {
     "name": "#%% md\n"
    }
   },
   "source": [
    "reading from file:"
   ]
  },
  {
   "cell_type": "code",
   "execution_count": 2,
   "metadata": {
    "collapsed": false,
    "jupyter": {
     "outputs_hidden": false
    },
    "pycharm": {
     "is_executing": false,
     "name": "#%%\n"
    }
   },
   "outputs": [],
   "source": [
    "iris_data_file = os.path.join('iris.data.txt')"
   ]
  },
  {
   "cell_type": "code",
   "execution_count": 3,
   "metadata": {},
   "outputs": [],
   "source": [
    "iris_cols = {\n",
    "                'Sepal.Length':     'float32',\n",
    "                'Sepal.Width':      'float32',\n",
    "                'Petal.Length':     'float32',\n",
    "                'Petal.Width':      'float32',\n",
    "                'Breed':            'category'\n",
    "}"
   ]
  },
  {
   "cell_type": "code",
   "execution_count": 5,
   "metadata": {},
   "outputs": [],
   "source": [
    "loaded_table = pd.read_table(iris_data_file, delimiter=\",\",  \n",
    "                             header=None, index_col=False, \n",
    "                             names=iris_cols.keys(),\n",
    "                             dtype=iris_cols,\n",
    "                             keep_default_na=False, # improves speed\n",
    "                             engine='python')"
   ]
  },
  {
   "cell_type": "code",
   "execution_count": 6,
   "metadata": {},
   "outputs": [
    {
     "name": "stdout",
     "output_type": "stream",
     "text": [
      "<class 'pandas.core.frame.DataFrame'>\n",
      "RangeIndex: 150 entries, 0 to 149\n",
      "Data columns (total 5 columns):\n",
      " #   Column        Non-Null Count  Dtype   \n",
      "---  ------        --------------  -----   \n",
      " 0   Sepal.Length  150 non-null    float32 \n",
      " 1   Sepal.Width   150 non-null    float32 \n",
      " 2   Petal.Length  150 non-null    float32 \n",
      " 3   Petal.Width   150 non-null    float32 \n",
      " 4   Breed         150 non-null    category\n",
      "dtypes: category(1), float32(4)\n",
      "memory usage: 2.6 KB\n",
      "None\n"
     ]
    }
   ],
   "source": [
    "print(loaded_table.info())"
   ]
  },
  {
   "cell_type": "code",
   "execution_count": 7,
   "metadata": {},
   "outputs": [
    {
     "name": "stdout",
     "output_type": "stream",
     "text": [
      "       Sepal.Length  Sepal.Width  Petal.Length  Petal.Width\n",
      "count    150.000000   150.000000    150.000000   150.000000\n",
      "mean       5.843333     3.054000      3.758667     1.198667\n",
      "std        0.828066     0.433594      1.764420     0.763161\n",
      "min        4.300000     2.000000      1.000000     0.100000\n",
      "25%        5.100000     2.800000      1.600000     0.300000\n",
      "50%        5.800000     3.000000      4.350000     1.300000\n",
      "75%        6.400000     3.300000      5.100000     1.800000\n",
      "max        7.900000     4.400000      6.900000     2.500000\n"
     ]
    }
   ],
   "source": [
    "print(loaded_table.describe())"
   ]
  },
  {
   "cell_type": "code",
   "execution_count": 93,
   "metadata": {},
   "outputs": [
    {
     "data": {
      "text/plain": [
       "[Iris-setosa, Iris-versicolor, Iris-virginica]\n",
       "Categories (3, object): [Iris-setosa, Iris-versicolor, Iris-virginica]"
      ]
     },
     "execution_count": 93,
     "metadata": {},
     "output_type": "execute_result"
    }
   ],
   "source": [
    "loaded_table['Breed'].unique()"
   ]
  },
  {
   "cell_type": "code",
   "execution_count": 30,
   "metadata": {},
   "outputs": [
    {
     "data": {
      "text/plain": [
       "Breed\n",
       "Iris-setosa        AxesSubplot(0.125,0.125;0.775x0.755)\n",
       "Iris-versicolor    AxesSubplot(0.125,0.125;0.775x0.755)\n",
       "Iris-virginica     AxesSubplot(0.125,0.125;0.775x0.755)\n",
       "dtype: object"
      ]
     },
     "execution_count": 30,
     "metadata": {},
     "output_type": "execute_result"
    },
    {
     "data": {
      "image/png": "[encoded data removed]",
      "text/plain": [
       "<Figure size 432x288 with 1 Axes>"
      ]
     },
     "metadata": {
      "needs_background": "light"
     },
     "output_type": "display_data"
    },
    {
     "data": {
      "image/png": "[encoded data removed]",
      "text/plain": [
       "<Figure size 432x288 with 1 Axes>"
      ]
     },
     "metadata": {
      "needs_background": "light"
     },
     "output_type": "display_data"
    },
    {
     "data": {
      "image/png": "[encoded data removed]",
      "text/plain": [
       "<Figure size 432x288 with 1 Axes>"
      ]
     },
     "metadata": {
      "needs_background": "light"
     },
     "output_type": "display_data"
    }
   ],
   "source": [
    "loaded_table.groupby('Breed').plot(kind='bar', )"
   ]
  },
  {
   "cell_type": "markdown",
   "metadata": {},
   "source": [
    "## 3D Plot"
   ]
  },
  {
   "cell_type": "code",
   "execution_count": 8,
   "metadata": {},
   "outputs": [],
   "source": [
    "import pandas as pd\n",
    "from pandas import DataFrame\n",
    "import matplotlib.pyplot as plt\n",
    "from mpl_toolkits.mplot3d import Axes3D\n"
   ]
  },
  {
   "cell_type": "markdown",
   "metadata": {},
   "source": [
    "#### Ploting and saving plots"
   ]
  },
  {
   "cell_type": "code",
   "execution_count": 63,
   "metadata": {},
   "outputs": [
    {
     "name": "stdout",
     "output_type": "stream",
     "text": [
      "removed gif_scratch directory\n",
      "created gif_scratch directory\n"
     ]
    },
    {
     "data": {
      "image/png": "[encoded data removed]",
      "text/plain": [
       "<Figure size 432x288 with 1 Axes>"
      ]
     },
     "metadata": {
      "needs_background": "light"
     },
     "output_type": "display_data"
    }
   ],
   "source": [
    "# initial plotting\n",
    "plot3D = plt.figure().gca(projection='3d')\n",
    "\n",
    "m_mapper = {\n",
    "    'Iris-setosa': 'x',\n",
    "    'Iris-versicolor': 'o',\n",
    "    'Iris-virginica': 'v'\n",
    "}\n",
    "c_mapper = {\n",
    "    'Iris-setosa': 'red',\n",
    "    'Iris-versicolor': 'blue',\n",
    "    'Iris-virginica': 'green'\n",
    "}\n",
    "\n",
    "plot3D.set_xlabel('S-L')\n",
    "plot3D.set_ylabel('S-W')\n",
    "plot3D.set_zlabel('P-L')\n",
    "\n",
    "for idx, data in loaded_table.iterrows():\n",
    "    plot3D.scatter(\n",
    "                    data['Sepal.Length'], data['Sepal.Width'], data['Petal.Length'], \n",
    "                    marker=m_mapper[data['Breed']],\n",
    "                    c=c_mapper[data['Breed']]\n",
    "    )\n",
    "\n",
    "# saving plots\n",
    "images_path = 'gif_scratch'\n",
    "    \n",
    "if not os.path.isdir(images_path):\n",
    "    os.makedirs(images_path)\n",
    "    print('created ' + images_path + ' directory')\n",
    "else:\n",
    "    if not os.listdir(images_path) == []:\n",
    "        shutil.rmtree(images_path)\n",
    "        print('removed ' + images_path + ' directory')\n",
    "        os.makedirs(images_path)\n",
    "        print('created ' + images_path + ' directory')\n",
    "    \n",
    "for angle in range(0, 360):\n",
    "    filename = os.path.join(images_path, str(angle) + '.png')\n",
    "    plot3D.view_init(30, angle)\n",
    "    plt.savefig(filename)\n",
    "    "
   ]
  },
  {
   "cell_type": "markdown",
   "metadata": {},
   "source": [
    "#### Make GIF"
   ]
  },
  {
   "cell_type": "code",
   "execution_count": 64,
   "metadata": {},
   "outputs": [],
   "source": [
    "import imageio\n",
    "import os\n",
    "import shutil\n",
    "\n",
    "images = []\n",
    "        \n",
    "\n",
    "for angle in range(0, 360):\n",
    "    filename = os.path.join(images_path, str(angle) + '.png')\n",
    "    images.append(imageio.imread(filename))\n",
    "    \n",
    "imageio.mimsave('4.gif', images)"
   ]
  },
  {
   "cell_type": "markdown",
   "metadata": {},
   "source": [
    "#### Show gif(s):\n",
    "\n",
    "Legend:\n",
    "\n",
    "    Iris-setosa: red\n",
    "    Iris-versicolor: blue\n",
    "    Iris-virginica: green"
   ]
  },
  {
   "cell_type": "markdown",
   "metadata": {},
   "source": [
    "![30deg](1.gif \"S-L P-W P-L 30\")\n",
    "![60deg](2.gif \"S-L P-W P-L 60\")\n",
    "\n",
    "![30deg](4.gif \"S-L S-W P-L 30\")\n",
    "![60deg](3.gif \"S-L S-W P-L 60\")"
   ]
  },
  {
   "cell_type": "code",
   "execution_count": null,
   "metadata": {},
   "outputs": [],
   "source": []
  }
 ],
 "metadata": {
  "kernelspec": {
   "display_name": "py3-hwcg",
   "language": "python",
   "name": "py3-hwcg"
  },
  "language_info": {
   "codemirror_mode": {
    "name": "ipython",
    "version": 3
   },
   "file_extension": ".py",
   "mimetype": "text/x-python",
   "name": "python",
   "nbconvert_exporter": "python",
   "pygments_lexer": "ipython3",
   "version": "3.7.6"
  }
 },
 "nbformat": 4,
 "nbformat_minor": 4
}
